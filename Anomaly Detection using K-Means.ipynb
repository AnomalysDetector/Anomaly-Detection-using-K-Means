{
 "cells": [
  {
   "cell_type": "code",
   "execution_count": 1,
   "metadata": {},
   "outputs": [],
   "source": [
    "import seaborn as sns\n",
    "import matplotlib.pyplot as plt\n",
    "import numpy as np\n",
    "import pandas as pd\n",
    "%matplotlib inline"
   ]
  },
  {
   "cell_type": "code",
   "execution_count": 2,
   "metadata": {},
   "outputs": [
    {
     "name": "stdout",
     "output_type": "stream",
     "text": [
      "<class 'pandas.core.frame.DataFrame'>\n",
      "RangeIndex: 14950 entries, 0 to 14949\n",
      "Data columns (total 8 columns):\n",
      " #   Column  Non-Null Count  Dtype  \n",
      "---  ------  --------------  -----  \n",
      " 0   A       14950 non-null  float64\n",
      " 1   B       14950 non-null  float64\n",
      " 2   C       14950 non-null  float64\n",
      " 3   D       14950 non-null  float64\n",
      " 4   E       14950 non-null  float64\n",
      " 5   F       14950 non-null  float64\n",
      " 6   G       14950 non-null  float64\n",
      " 7   H       14950 non-null  float64\n",
      "dtypes: float64(8)\n",
      "memory usage: 934.5 KB\n"
     ]
    }
   ],
   "source": [
    "df = pd.read_csv('unall.csv')\n",
    "df.info()"
   ]
  },
  {
   "cell_type": "code",
   "execution_count": 3,
   "metadata": {},
   "outputs": [
    {
     "data": {
      "text/html": [
       "<div>\n",
       "<style scoped>\n",
       "    .dataframe tbody tr th:only-of-type {\n",
       "        vertical-align: middle;\n",
       "    }\n",
       "\n",
       "    .dataframe tbody tr th {\n",
       "        vertical-align: top;\n",
       "    }\n",
       "\n",
       "    .dataframe thead th {\n",
       "        text-align: right;\n",
       "    }\n",
       "</style>\n",
       "<table border=\"1\" class=\"dataframe\">\n",
       "  <thead>\n",
       "    <tr style=\"text-align: right;\">\n",
       "      <th></th>\n",
       "      <th>A</th>\n",
       "      <th>B</th>\n",
       "      <th>C</th>\n",
       "      <th>D</th>\n",
       "      <th>E</th>\n",
       "      <th>F</th>\n",
       "      <th>G</th>\n",
       "      <th>H</th>\n",
       "    </tr>\n",
       "  </thead>\n",
       "  <tbody>\n",
       "    <tr>\n",
       "      <th>0</th>\n",
       "      <td>-9.160867</td>\n",
       "      <td>2.062130</td>\n",
       "      <td>4.837712</td>\n",
       "      <td>-4.346400</td>\n",
       "      <td>2.946743</td>\n",
       "      <td>0.603092</td>\n",
       "      <td>-8.299990</td>\n",
       "      <td>-8.165439</td>\n",
       "    </tr>\n",
       "    <tr>\n",
       "      <th>1</th>\n",
       "      <td>-0.231103</td>\n",
       "      <td>1.280835</td>\n",
       "      <td>-9.236738</td>\n",
       "      <td>-6.957041</td>\n",
       "      <td>3.804968</td>\n",
       "      <td>6.230847</td>\n",
       "      <td>-2.914726</td>\n",
       "      <td>8.033090</td>\n",
       "    </tr>\n",
       "    <tr>\n",
       "      <th>2</th>\n",
       "      <td>-9.048888</td>\n",
       "      <td>1.522202</td>\n",
       "      <td>5.120447</td>\n",
       "      <td>-4.911565</td>\n",
       "      <td>1.682313</td>\n",
       "      <td>0.114039</td>\n",
       "      <td>-8.477866</td>\n",
       "      <td>-7.879890</td>\n",
       "    </tr>\n",
       "    <tr>\n",
       "      <th>3</th>\n",
       "      <td>2.875032</td>\n",
       "      <td>-6.874256</td>\n",
       "      <td>1.354997</td>\n",
       "      <td>-2.420766</td>\n",
       "      <td>-7.512797</td>\n",
       "      <td>5.867499</td>\n",
       "      <td>8.617150</td>\n",
       "      <td>-4.975955</td>\n",
       "    </tr>\n",
       "    <tr>\n",
       "      <th>4</th>\n",
       "      <td>3.893718</td>\n",
       "      <td>-5.383670</td>\n",
       "      <td>1.013762</td>\n",
       "      <td>-3.266091</td>\n",
       "      <td>-5.721458</td>\n",
       "      <td>5.986232</td>\n",
       "      <td>9.082322</td>\n",
       "      <td>-4.018635</td>\n",
       "    </tr>\n",
       "  </tbody>\n",
       "</table>\n",
       "</div>"
      ],
      "text/plain": [
       "          A         B         C         D         E         F         G  \\\n",
       "0 -9.160867  2.062130  4.837712 -4.346400  2.946743  0.603092 -8.299990   \n",
       "1 -0.231103  1.280835 -9.236738 -6.957041  3.804968  6.230847 -2.914726   \n",
       "2 -9.048888  1.522202  5.120447 -4.911565  1.682313  0.114039 -8.477866   \n",
       "3  2.875032 -6.874256  1.354997 -2.420766 -7.512797  5.867499  8.617150   \n",
       "4  3.893718 -5.383670  1.013762 -3.266091 -5.721458  5.986232  9.082322   \n",
       "\n",
       "          H  \n",
       "0 -8.165439  \n",
       "1  8.033090  \n",
       "2 -7.879890  \n",
       "3 -4.975955  \n",
       "4 -4.018635  "
      ]
     },
     "execution_count": 3,
     "metadata": {},
     "output_type": "execute_result"
    }
   ],
   "source": [
    "df.head()"
   ]
  },
  {
   "cell_type": "code",
   "execution_count": 4,
   "metadata": {},
   "outputs": [
    {
     "data": {
      "text/html": [
       "<div>\n",
       "<style scoped>\n",
       "    .dataframe tbody tr th:only-of-type {\n",
       "        vertical-align: middle;\n",
       "    }\n",
       "\n",
       "    .dataframe tbody tr th {\n",
       "        vertical-align: top;\n",
       "    }\n",
       "\n",
       "    .dataframe thead th {\n",
       "        text-align: right;\n",
       "    }\n",
       "</style>\n",
       "<table border=\"1\" class=\"dataframe\">\n",
       "  <thead>\n",
       "    <tr style=\"text-align: right;\">\n",
       "      <th></th>\n",
       "      <th>A</th>\n",
       "      <th>B</th>\n",
       "      <th>C</th>\n",
       "      <th>D</th>\n",
       "      <th>E</th>\n",
       "      <th>F</th>\n",
       "      <th>G</th>\n",
       "      <th>H</th>\n",
       "    </tr>\n",
       "  </thead>\n",
       "  <tbody>\n",
       "    <tr>\n",
       "      <th>count</th>\n",
       "      <td>14950.000000</td>\n",
       "      <td>14950.000000</td>\n",
       "      <td>14950.000000</td>\n",
       "      <td>14950.000000</td>\n",
       "      <td>14950.000000</td>\n",
       "      <td>14950.000000</td>\n",
       "      <td>14950.000000</td>\n",
       "      <td>14950.000000</td>\n",
       "    </tr>\n",
       "    <tr>\n",
       "      <th>mean</th>\n",
       "      <td>-1.185934</td>\n",
       "      <td>-0.896184</td>\n",
       "      <td>-1.264331</td>\n",
       "      <td>-4.677766</td>\n",
       "      <td>0.351573</td>\n",
       "      <td>4.246823</td>\n",
       "      <td>-1.191025</td>\n",
       "      <td>-1.576727</td>\n",
       "    </tr>\n",
       "    <tr>\n",
       "      <th>std</th>\n",
       "      <td>5.363437</td>\n",
       "      <td>3.810385</td>\n",
       "      <td>6.002542</td>\n",
       "      <td>1.640221</td>\n",
       "      <td>4.788649</td>\n",
       "      <td>2.878928</td>\n",
       "      <td>7.757159</td>\n",
       "      <td>6.776770</td>\n",
       "    </tr>\n",
       "    <tr>\n",
       "      <th>min</th>\n",
       "      <td>-10.537627</td>\n",
       "      <td>-8.837181</td>\n",
       "      <td>-11.946330</td>\n",
       "      <td>-9.052931</td>\n",
       "      <td>-8.691842</td>\n",
       "      <td>-2.389107</td>\n",
       "      <td>-11.802741</td>\n",
       "      <td>-9.844519</td>\n",
       "    </tr>\n",
       "    <tr>\n",
       "      <th>25%</th>\n",
       "      <td>-7.855753</td>\n",
       "      <td>-5.708744</td>\n",
       "      <td>-8.961021</td>\n",
       "      <td>-6.132064</td>\n",
       "      <td>-5.879588</td>\n",
       "      <td>0.802655</td>\n",
       "      <td>-8.547466</td>\n",
       "      <td>-6.819367</td>\n",
       "    </tr>\n",
       "    <tr>\n",
       "      <th>50%</th>\n",
       "      <td>0.330952</td>\n",
       "      <td>1.218370</td>\n",
       "      <td>1.069696</td>\n",
       "      <td>-4.516473</td>\n",
       "      <td>3.223332</td>\n",
       "      <td>5.605626</td>\n",
       "      <td>-3.853067</td>\n",
       "      <td>-5.360770</td>\n",
       "    </tr>\n",
       "    <tr>\n",
       "      <th>75%</th>\n",
       "      <td>3.965798</td>\n",
       "      <td>1.987569</td>\n",
       "      <td>4.122531</td>\n",
       "      <td>-3.330587</td>\n",
       "      <td>3.927089</td>\n",
       "      <td>6.484949</td>\n",
       "      <td>8.867105</td>\n",
       "      <td>7.412088</td>\n",
       "    </tr>\n",
       "    <tr>\n",
       "      <th>max</th>\n",
       "      <td>6.530497</td>\n",
       "      <td>4.706302</td>\n",
       "      <td>7.092492</td>\n",
       "      <td>-0.320651</td>\n",
       "      <td>6.043994</td>\n",
       "      <td>9.069891</td>\n",
       "      <td>11.706608</td>\n",
       "      <td>10.643789</td>\n",
       "    </tr>\n",
       "  </tbody>\n",
       "</table>\n",
       "</div>"
      ],
      "text/plain": [
       "                  A             B             C             D             E  \\\n",
       "count  14950.000000  14950.000000  14950.000000  14950.000000  14950.000000   \n",
       "mean      -1.185934     -0.896184     -1.264331     -4.677766      0.351573   \n",
       "std        5.363437      3.810385      6.002542      1.640221      4.788649   \n",
       "min      -10.537627     -8.837181    -11.946330     -9.052931     -8.691842   \n",
       "25%       -7.855753     -5.708744     -8.961021     -6.132064     -5.879588   \n",
       "50%        0.330952      1.218370      1.069696     -4.516473      3.223332   \n",
       "75%        3.965798      1.987569      4.122531     -3.330587      3.927089   \n",
       "max        6.530497      4.706302      7.092492     -0.320651      6.043994   \n",
       "\n",
       "                  F             G             H  \n",
       "count  14950.000000  14950.000000  14950.000000  \n",
       "mean       4.246823     -1.191025     -1.576727  \n",
       "std        2.878928      7.757159      6.776770  \n",
       "min       -2.389107    -11.802741     -9.844519  \n",
       "25%        0.802655     -8.547466     -6.819367  \n",
       "50%        5.605626     -3.853067     -5.360770  \n",
       "75%        6.484949      8.867105      7.412088  \n",
       "max        9.069891     11.706608     10.643789  "
      ]
     },
     "execution_count": 4,
     "metadata": {},
     "output_type": "execute_result"
    }
   ],
   "source": [
    "df.describe()"
   ]
  },
  {
   "cell_type": "code",
   "execution_count": 5,
   "metadata": {},
   "outputs": [],
   "source": [
    "from sklearn.cluster import KMeans"
   ]
  },
  {
   "cell_type": "code",
   "execution_count": 6,
   "metadata": {},
   "outputs": [],
   "source": [
    "kmeans = KMeans(n_clusters=3)"
   ]
  },
  {
   "cell_type": "code",
   "execution_count": 7,
   "metadata": {},
   "outputs": [
    {
     "data": {
      "text/plain": [
       "KMeans(n_clusters=3)"
      ]
     },
     "execution_count": 7,
     "metadata": {},
     "output_type": "execute_result"
    }
   ],
   "source": [
    "kmeans.fit(df)"
   ]
  },
  {
   "cell_type": "code",
   "execution_count": 8,
   "metadata": {},
   "outputs": [
    {
     "data": {
      "text/plain": [
       "array([0])"
      ]
     },
     "execution_count": 8,
     "metadata": {},
     "output_type": "execute_result"
    }
   ],
   "source": [
    "kmeans.predict([[1,2,3,4,56,6,7,8]])"
   ]
  },
  {
   "cell_type": "code",
   "execution_count": 9,
   "metadata": {},
   "outputs": [
    {
     "data": {
      "text/plain": [
       "array([[55.86262515, 58.47491789, 64.83366692]])"
      ]
     },
     "execution_count": 9,
     "metadata": {},
     "output_type": "execute_result"
    }
   ],
   "source": [
    "kmeans.transform([[1,2,3,4,56,6,7,8]])"
   ]
  },
  {
   "cell_type": "code",
   "execution_count": 10,
   "metadata": {},
   "outputs": [
    {
     "data": {
      "text/plain": [
       "array([[ 0.33668422,  1.40613324, -9.44534503, -6.58114599,  3.70570442,\n",
       "         6.69023167, -3.8540745 ,  7.88929041],\n",
       "       [-8.31821248,  2.08027592,  4.5800723 , -4.48649629,  3.68890015,\n",
       "         0.34085028, -9.02460214, -7.25444951],\n",
       "       [ 4.43786571, -6.18676545,  1.07462692, -2.9622927 , -6.35467402,\n",
       "         5.71389715,  9.32984445, -5.3703528 ]])"
      ]
     },
     "execution_count": 10,
     "metadata": {},
     "output_type": "execute_result"
    }
   ],
   "source": [
    "kmeans.cluster_centers_"
   ]
  },
  {
   "cell_type": "code",
   "execution_count": 11,
   "metadata": {},
   "outputs": [],
   "source": [
    "dftest = pd.read_csv('un_test.csv')"
   ]
  },
  {
   "cell_type": "code",
   "execution_count": 12,
   "metadata": {},
   "outputs": [
    {
     "data": {
      "text/html": [
       "<div>\n",
       "<style scoped>\n",
       "    .dataframe tbody tr th:only-of-type {\n",
       "        vertical-align: middle;\n",
       "    }\n",
       "\n",
       "    .dataframe tbody tr th {\n",
       "        vertical-align: top;\n",
       "    }\n",
       "\n",
       "    .dataframe thead th {\n",
       "        text-align: right;\n",
       "    }\n",
       "</style>\n",
       "<table border=\"1\" class=\"dataframe\">\n",
       "  <thead>\n",
       "    <tr style=\"text-align: right;\">\n",
       "      <th></th>\n",
       "      <th>A</th>\n",
       "      <th>B</th>\n",
       "      <th>C</th>\n",
       "      <th>D</th>\n",
       "      <th>E</th>\n",
       "      <th>F</th>\n",
       "      <th>G</th>\n",
       "      <th>H</th>\n",
       "    </tr>\n",
       "  </thead>\n",
       "  <tbody>\n",
       "    <tr>\n",
       "      <th>0</th>\n",
       "      <td>-8.394198</td>\n",
       "      <td>2.130580</td>\n",
       "      <td>4.550989</td>\n",
       "      <td>-3.985735</td>\n",
       "      <td>3.675691</td>\n",
       "      <td>0.037279</td>\n",
       "      <td>-9.610096</td>\n",
       "      <td>-5.409832</td>\n",
       "    </tr>\n",
       "    <tr>\n",
       "      <th>1</th>\n",
       "      <td>4.952155</td>\n",
       "      <td>-6.417093</td>\n",
       "      <td>1.529750</td>\n",
       "      <td>-3.416331</td>\n",
       "      <td>-7.892094</td>\n",
       "      <td>5.861197</td>\n",
       "      <td>10.167782</td>\n",
       "      <td>-5.014432</td>\n",
       "    </tr>\n",
       "    <tr>\n",
       "      <th>2</th>\n",
       "      <td>0.712611</td>\n",
       "      <td>2.526579</td>\n",
       "      <td>-8.992137</td>\n",
       "      <td>-6.231673</td>\n",
       "      <td>4.253149</td>\n",
       "      <td>7.303107</td>\n",
       "      <td>-4.525618</td>\n",
       "      <td>7.960269</td>\n",
       "    </tr>\n",
       "    <tr>\n",
       "      <th>3</th>\n",
       "      <td>-8.711706</td>\n",
       "      <td>2.744574</td>\n",
       "      <td>4.786655</td>\n",
       "      <td>-4.568053</td>\n",
       "      <td>2.750779</td>\n",
       "      <td>0.306981</td>\n",
       "      <td>-8.467796</td>\n",
       "      <td>-8.006584</td>\n",
       "    </tr>\n",
       "    <tr>\n",
       "      <th>4</th>\n",
       "      <td>3.182528</td>\n",
       "      <td>-5.604574</td>\n",
       "      <td>2.234331</td>\n",
       "      <td>-2.845613</td>\n",
       "      <td>-5.954910</td>\n",
       "      <td>4.068180</td>\n",
       "      <td>9.842163</td>\n",
       "      <td>-6.777029</td>\n",
       "    </tr>\n",
       "  </tbody>\n",
       "</table>\n",
       "</div>"
      ],
      "text/plain": [
       "          A         B         C         D         E         F          G  \\\n",
       "0 -8.394198  2.130580  4.550989 -3.985735  3.675691  0.037279  -9.610096   \n",
       "1  4.952155 -6.417093  1.529750 -3.416331 -7.892094  5.861197  10.167782   \n",
       "2  0.712611  2.526579 -8.992137 -6.231673  4.253149  7.303107  -4.525618   \n",
       "3 -8.711706  2.744574  4.786655 -4.568053  2.750779  0.306981  -8.467796   \n",
       "4  3.182528 -5.604574  2.234331 -2.845613 -5.954910  4.068180   9.842163   \n",
       "\n",
       "          H  \n",
       "0 -5.409832  \n",
       "1 -5.014432  \n",
       "2  7.960269  \n",
       "3 -8.006584  \n",
       "4 -6.777029  "
      ]
     },
     "execution_count": 12,
     "metadata": {},
     "output_type": "execute_result"
    }
   ],
   "source": [
    "dftest.head()"
   ]
  },
  {
   "cell_type": "code",
   "execution_count": 13,
   "metadata": {},
   "outputs": [],
   "source": [
    "def k_mean_distance(samp,cent):\n",
    "        s = 0\n",
    "        for i in range(len(samp)):\n",
    "            s += ((samp[i]-cent[i])**2)\n",
    "        return np.sqrt(s)"
   ]
  },
  {
   "cell_type": "code",
   "execution_count": 14,
   "metadata": {},
   "outputs": [
    {
     "data": {
      "text/plain": [
       "array([ 0.71261085,  2.5265786 , -8.99213715, -6.23167263,  4.25314857,\n",
       "        7.3031071 , -4.52561755,  7.960269  ])"
      ]
     },
     "execution_count": 14,
     "metadata": {},
     "output_type": "execute_result"
    }
   ],
   "source": [
    "s = dftest.iloc[2,:].values\n",
    "s"
   ]
  },
  {
   "cell_type": "code",
   "execution_count": 15,
   "metadata": {},
   "outputs": [
    {
     "name": "stdout",
     "output_type": "stream",
     "text": [
      "1.6898423213866287\n",
      "23.864730970399783\n",
      "26.202275961416607\n"
     ]
    }
   ],
   "source": [
    "print(k_mean_distance(s,kmeans.cluster_centers_[0]))\n",
    "print(k_mean_distance(s,kmeans.cluster_centers_[1]))\n",
    "print(k_mean_distance(s,kmeans.cluster_centers_[2]))"
   ]
  },
  {
   "cell_type": "code",
   "execution_count": 16,
   "metadata": {},
   "outputs": [
    {
     "data": {
      "text/plain": [
       "array([0])"
      ]
     },
     "execution_count": 16,
     "metadata": {},
     "output_type": "execute_result"
    }
   ],
   "source": [
    "kmeans.predict(s.reshape(1,-1))"
   ]
  },
  {
   "cell_type": "code",
   "execution_count": 17,
   "metadata": {},
   "outputs": [],
   "source": [
    "###########################\n",
    "# how to get those distances from sklean?"
   ]
  },
  {
   "cell_type": "code",
   "execution_count": 18,
   "metadata": {},
   "outputs": [
    {
     "data": {
      "text/plain": [
       "array([[23.10081754,  2.02426777, 27.17586705],\n",
       "       [26.67000096, 28.22616872,  1.98620423],\n",
       "       [ 1.68984232, 23.86473097, 26.20227596],\n",
       "       [24.61483625,  1.54997191, 26.54971601],\n",
       "       [26.65536312, 25.74097472,  2.89529842],\n",
       "       [24.86207543, 26.4603799 ,  1.27300541],\n",
       "       [ 1.23572409, 24.40161108, 25.52364461],\n",
       "       [23.96003722,  1.1207899 , 26.73157152],\n",
       "       [24.44446576,  2.04779081, 25.59222985],\n",
       "       [26.36951968, 27.44694124,  2.42548963],\n",
       "       [26.2978049 , 27.35526634,  1.32178713],\n",
       "       [24.11452697,  2.41854439, 26.0691422 ],\n",
       "       [ 1.42053325, 24.75893817, 26.12425969],\n",
       "       [23.63931705,  1.73516246, 26.57940052],\n",
       "       [24.17825893,  2.01213888, 27.35784186],\n",
       "       [24.73765746,  1.97154644, 28.00260911],\n",
       "       [ 1.37535474, 23.90687491, 25.08366912],\n",
       "       [25.62046267, 25.78544671,  2.27129784],\n",
       "       [ 2.32736698, 24.65509987, 25.53551703],\n",
       "       [25.01866635, 26.31849249,  1.33551553],\n",
       "       [24.00556292,  1.7103808 , 27.4825864 ],\n",
       "       [26.08921354, 26.67869745,  1.54688251],\n",
       "       [22.52174399, 24.38032227, 25.18634951],\n",
       "       [ 2.16197093, 23.5717114 , 25.74064545],\n",
       "       [25.79706241, 26.70235665,  1.96119847],\n",
       "       [22.22648384, 25.3744129 , 27.4048492 ],\n",
       "       [21.88499425, 25.00848661, 25.6276201 ],\n",
       "       [20.47797309, 23.6438614 , 25.15475115],\n",
       "       [20.8932656 , 24.05858808, 25.43836049],\n",
       "       [25.67584034, 26.14273585,  1.50448038],\n",
       "       [25.7380996 , 26.59455458,  2.48572412],\n",
       "       [24.41329534, 25.70337398,  2.21977144],\n",
       "       [26.01394372, 26.798829  ,  2.19478414],\n",
       "       [23.80273129, 26.09738944,  2.05182845],\n",
       "       [23.82466378,  1.83545358, 26.06346997],\n",
       "       [ 1.60975312, 24.07711358, 25.47212615],\n",
       "       [21.92707938, 25.71913577, 26.77673964],\n",
       "       [21.6812631 , 25.03887657, 26.26968576],\n",
       "       [ 1.07116805, 24.37421303, 25.53960728],\n",
       "       [24.06741963, 26.68928031,  2.43931913],\n",
       "       [23.73671109,  2.48070083, 26.6266932 ],\n",
       "       [21.3050989 , 23.98590223, 25.29377305],\n",
       "       [ 2.14482267, 24.52563611, 25.5326988 ],\n",
       "       [25.78827775, 26.64833993,  1.81174264],\n",
       "       [ 1.8503509 , 23.22157141, 24.87762896],\n",
       "       [ 1.45334311, 24.43412335, 25.58104392],\n",
       "       [24.78441447, 25.85801599,  1.86329856],\n",
       "       [ 2.56828758, 22.78216548, 24.48875447],\n",
       "       [25.32113938, 25.57681213,  1.89877654],\n",
       "       [21.7712365 , 26.19422525, 27.50658448],\n",
       "       [22.85008277,  2.11015392, 25.7566127 ],\n",
       "       [25.91996648, 26.15828785,  2.03147127],\n",
       "       [25.08846823, 27.77657687,  2.70700185],\n",
       "       [26.0650579 , 27.41800421,  1.48616985],\n",
       "       [21.90590399, 24.76342459, 26.71119141],\n",
       "       [25.88587483, 26.6759567 ,  1.91771987],\n",
       "       [ 2.32205688, 23.37922383, 26.31125139],\n",
       "       [25.27158215, 26.99020458,  2.53318451],\n",
       "       [24.85052478, 26.36176289,  1.6716205 ],\n",
       "       [ 1.59748838, 23.58939275, 25.25297048]])"
      ]
     },
     "execution_count": 18,
     "metadata": {},
     "output_type": "execute_result"
    }
   ],
   "source": [
    "kmeans.transform(dftest)"
   ]
  },
  {
   "cell_type": "code",
   "execution_count": 19,
   "metadata": {},
   "outputs": [
    {
     "data": {
      "text/plain": [
       "array([ 1.68984232, 23.86473097, 26.20227596])"
      ]
     },
     "execution_count": 19,
     "metadata": {},
     "output_type": "execute_result"
    }
   ],
   "source": [
    "kmeans.transform(dftest)[2]"
   ]
  },
  {
   "cell_type": "code",
   "execution_count": 20,
   "metadata": {},
   "outputs": [
    {
     "data": {
      "text/plain": [
       "array([0])"
      ]
     },
     "execution_count": 20,
     "metadata": {},
     "output_type": "execute_result"
    }
   ],
   "source": [
    "kmeans.predict(dftest.iloc[2,:].values.reshape(1,-1))"
   ]
  },
  {
   "cell_type": "code",
   "execution_count": 21,
   "metadata": {},
   "outputs": [],
   "source": [
    "#################################################"
   ]
  },
  {
   "cell_type": "code",
   "execution_count": 22,
   "metadata": {},
   "outputs": [
    {
     "data": {
      "text/plain": [
       "array([-6.60915229,  9.83777338,  0.93345454,  1.81839482,  3.79379379,\n",
       "        0.93376324,  9.10384722,  4.96225064])"
      ]
     },
     "execution_count": 22,
     "metadata": {},
     "output_type": "execute_result"
    }
   ],
   "source": [
    "s = dftest.iloc[22,:].values\n",
    "s"
   ]
  },
  {
   "cell_type": "code",
   "execution_count": 23,
   "metadata": {},
   "outputs": [
    {
     "name": "stdout",
     "output_type": "stream",
     "text": [
      "22.52174399298306\n",
      "24.380322267368268\n",
      "25.186349514810328\n"
     ]
    }
   ],
   "source": [
    "print(k_mean_distance(s,kmeans.cluster_centers_[0]))\n",
    "print(k_mean_distance(s,kmeans.cluster_centers_[1]))\n",
    "print(k_mean_distance(s,kmeans.cluster_centers_[2]))"
   ]
  },
  {
   "cell_type": "code",
   "execution_count": 24,
   "metadata": {},
   "outputs": [
    {
     "data": {
      "text/plain": [
       "array([0])"
      ]
     },
     "execution_count": 24,
     "metadata": {},
     "output_type": "execute_result"
    }
   ],
   "source": [
    "kmeans.predict(s.reshape(1,-1))"
   ]
  },
  {
   "cell_type": "code",
   "execution_count": 25,
   "metadata": {},
   "outputs": [],
   "source": [
    "#############################################\n",
    "# build basic anomaly detection mechanism, for marking around X% of the test set as suspected \n",
    "# lead - np.min, len(np.where...)    % =  (how many > distance)/len(test)"
   ]
  },
  {
   "cell_type": "markdown",
   "metadata": {},
   "source": [
    "## 1. Calculating the distance of each record from the centroid"
   ]
  },
  {
   "cell_type": "code",
   "execution_count": 26,
   "metadata": {},
   "outputs": [
    {
     "data": {
      "text/plain": [
       "array([[23.10081754,  2.02426777, 27.17586705],\n",
       "       [26.67000096, 28.22616872,  1.98620423],\n",
       "       [ 1.68984232, 23.86473097, 26.20227596],\n",
       "       [24.61483625,  1.54997191, 26.54971601],\n",
       "       [26.65536312, 25.74097472,  2.89529842],\n",
       "       [24.86207543, 26.4603799 ,  1.27300541]])"
      ]
     },
     "execution_count": 26,
     "metadata": {},
     "output_type": "execute_result"
    }
   ],
   "source": [
    "kmeans.transform(dftest)[:6]"
   ]
  },
  {
   "cell_type": "markdown",
   "metadata": {},
   "source": [
    "## 2. Calculating the minimum distance of each record from the 3 centroids"
   ]
  },
  {
   "cell_type": "code",
   "execution_count": 27,
   "metadata": {},
   "outputs": [
    {
     "data": {
      "text/plain": [
       "array([[2.02426777],\n",
       "       [1.98620423],\n",
       "       [1.68984232],\n",
       "       [1.54997191],\n",
       "       [2.89529842],\n",
       "       [1.27300541]])"
      ]
     },
     "execution_count": 27,
     "metadata": {},
     "output_type": "execute_result"
    }
   ],
   "source": [
    "aa = np.min(kmeans.transform(dftest)[:6], axis=1)\n",
    "ab = aa.reshape(-1,1)\n",
    "ab"
   ]
  },
  {
   "cell_type": "markdown",
   "metadata": {},
   "source": [
    "## 3. Checking which records meet the condition"
   ]
  },
  {
   "cell_type": "code",
   "execution_count": 28,
   "metadata": {},
   "outputs": [
    {
     "data": {
      "text/plain": [
       "(array([0, 1, 4], dtype=int64),)"
      ]
     },
     "execution_count": 28,
     "metadata": {},
     "output_type": "execute_result"
    }
   ],
   "source": [
    "np.where(aa > 1.7)"
   ]
  },
  {
   "cell_type": "markdown",
   "metadata": {},
   "source": [
    "## 4. What is the percentage of anomalies? (the number of records which meet the condition out of the total records)"
   ]
  },
  {
   "cell_type": "code",
   "execution_count": 29,
   "metadata": {},
   "outputs": [
    {
     "data": {
      "text/plain": [
       "6"
      ]
     },
     "execution_count": 29,
     "metadata": {},
     "output_type": "execute_result"
    }
   ],
   "source": [
    "len(aa)"
   ]
  },
  {
   "cell_type": "code",
   "execution_count": 30,
   "metadata": {},
   "outputs": [
    {
     "data": {
      "text/plain": [
       "1"
      ]
     },
     "execution_count": 30,
     "metadata": {},
     "output_type": "execute_result"
    }
   ],
   "source": [
    "len(np.where(aa > 1.7))"
   ]
  },
  {
   "cell_type": "code",
   "execution_count": 31,
   "metadata": {},
   "outputs": [
    {
     "data": {
      "text/plain": [
       "3"
      ]
     },
     "execution_count": 31,
     "metadata": {},
     "output_type": "execute_result"
    }
   ],
   "source": [
    "len(np.where(aa > 1.7)[0])"
   ]
  },
  {
   "cell_type": "code",
   "execution_count": 32,
   "metadata": {},
   "outputs": [
    {
     "name": "stdout",
     "output_type": "stream",
     "text": [
      "50.00%\n"
     ]
    }
   ],
   "source": [
    "b = len(np.where(aa > 1.7)[0])/len(aa)\n",
    "print(\"{:.2%}\".format(b))"
   ]
  },
  {
   "cell_type": "markdown",
   "metadata": {},
   "source": [
    "## Building a Loop"
   ]
  },
  {
   "cell_type": "code",
   "execution_count": 33,
   "metadata": {},
   "outputs": [],
   "source": [
    "p = []\n",
    "max_d = np.linspace(0, 40, 300)\n",
    "res = kmeans.transform(dftest)\n",
    "mins = np.min(res, axis=1)\n",
    "for d in max_d:\n",
    "    n_sus = len(np.where(mins > d)[0])\n",
    "    p.append(n_sus/len(res))"
   ]
  },
  {
   "cell_type": "code",
   "execution_count": 34,
   "metadata": {},
   "outputs": [
    {
     "data": {
      "text/plain": [
       "[1.0,\n",
       " 1.0,\n",
       " 1.0,\n",
       " 1.0,\n",
       " 1.0,\n",
       " 1.0,\n",
       " 1.0,\n",
       " 1.0,\n",
       " 1.0,\n",
       " 0.9666666666666667,\n",
       " 0.9,\n",
       " 0.85,\n",
       " 0.7666666666666667,\n",
       " 0.6833333333333333,\n",
       " 0.6166666666666667,\n",
       " 0.5333333333333333]"
      ]
     },
     "execution_count": 34,
     "metadata": {},
     "output_type": "execute_result"
    }
   ],
   "source": [
    "p[:16]"
   ]
  },
  {
   "cell_type": "code",
   "execution_count": 35,
   "metadata": {},
   "outputs": [
    {
     "data": {
      "text/plain": [
       "[<matplotlib.lines.Line2D at 0x23063ecdf48>]"
      ]
     },
     "execution_count": 35,
     "metadata": {},
     "output_type": "execute_result"
    },
    {
     "data": {
      "image/png": "[encoded data removed]",
      "text/plain": [
       "<Figure size 432x288 with 1 Axes>"
      ]
     },
     "metadata": {
      "needs_background": "light"
     },
     "output_type": "display_data"
    }
   ],
   "source": [
    "plt.plot(max_d, p, 'b-o')"
   ]
  },
  {
   "cell_type": "code",
   "execution_count": 36,
   "metadata": {},
   "outputs": [
    {
     "data": {
      "text/html": [
       "<div>\n",
       "<style scoped>\n",
       "    .dataframe tbody tr th:only-of-type {\n",
       "        vertical-align: middle;\n",
       "    }\n",
       "\n",
       "    .dataframe tbody tr th {\n",
       "        vertical-align: top;\n",
       "    }\n",
       "\n",
       "    .dataframe thead th {\n",
       "        text-align: right;\n",
       "    }\n",
       "</style>\n",
       "<table border=\"1\" class=\"dataframe\">\n",
       "  <thead>\n",
       "    <tr style=\"text-align: right;\">\n",
       "      <th></th>\n",
       "      <th>Distance</th>\n",
       "      <th>Probability</th>\n",
       "    </tr>\n",
       "  </thead>\n",
       "  <tbody>\n",
       "    <tr>\n",
       "      <th>0</th>\n",
       "      <td>0.000000</td>\n",
       "      <td>1.0</td>\n",
       "    </tr>\n",
       "    <tr>\n",
       "      <th>1</th>\n",
       "      <td>0.133779</td>\n",
       "      <td>1.0</td>\n",
       "    </tr>\n",
       "    <tr>\n",
       "      <th>2</th>\n",
       "      <td>0.267559</td>\n",
       "      <td>1.0</td>\n",
       "    </tr>\n",
       "    <tr>\n",
       "      <th>3</th>\n",
       "      <td>0.401338</td>\n",
       "      <td>1.0</td>\n",
       "    </tr>\n",
       "    <tr>\n",
       "      <th>4</th>\n",
       "      <td>0.535117</td>\n",
       "      <td>1.0</td>\n",
       "    </tr>\n",
       "  </tbody>\n",
       "</table>\n",
       "</div>"
      ],
      "text/plain": [
       "   Distance  Probability\n",
       "0  0.000000          1.0\n",
       "1  0.133779          1.0\n",
       "2  0.267559          1.0\n",
       "3  0.401338          1.0\n",
       "4  0.535117          1.0"
      ]
     },
     "execution_count": 36,
     "metadata": {},
     "output_type": "execute_result"
    }
   ],
   "source": [
    "df2 = pd.DataFrame()\n",
    "df2['Distance'] = max_d\n",
    "df2['Probability'] = p\n",
    "df2.head()"
   ]
  },
  {
   "cell_type": "code",
   "execution_count": 37,
   "metadata": {},
   "outputs": [
    {
     "data": {
      "text/html": [
       "<div>\n",
       "<style scoped>\n",
       "    .dataframe tbody tr th:only-of-type {\n",
       "        vertical-align: middle;\n",
       "    }\n",
       "\n",
       "    .dataframe tbody tr th {\n",
       "        vertical-align: top;\n",
       "    }\n",
       "\n",
       "    .dataframe thead th {\n",
       "        text-align: right;\n",
       "    }\n",
       "</style>\n",
       "<table border=\"1\" class=\"dataframe\">\n",
       "  <thead>\n",
       "    <tr style=\"text-align: right;\">\n",
       "      <th></th>\n",
       "      <th>Distance</th>\n",
       "      <th>Probability</th>\n",
       "    </tr>\n",
       "  </thead>\n",
       "  <tbody>\n",
       "    <tr>\n",
       "      <th>19</th>\n",
       "      <td>2.541806</td>\n",
       "      <td>0.216667</td>\n",
       "    </tr>\n",
       "    <tr>\n",
       "      <th>20</th>\n",
       "      <td>2.675585</td>\n",
       "      <td>0.200000</td>\n",
       "    </tr>\n",
       "    <tr>\n",
       "      <th>21</th>\n",
       "      <td>2.809365</td>\n",
       "      <td>0.183333</td>\n",
       "    </tr>\n",
       "    <tr>\n",
       "      <th>22</th>\n",
       "      <td>2.943144</td>\n",
       "      <td>0.166667</td>\n",
       "    </tr>\n",
       "    <tr>\n",
       "      <th>23</th>\n",
       "      <td>3.076923</td>\n",
       "      <td>0.166667</td>\n",
       "    </tr>\n",
       "  </tbody>\n",
       "</table>\n",
       "</div>"
      ],
      "text/plain": [
       "    Distance  Probability\n",
       "19  2.541806     0.216667\n",
       "20  2.675585     0.200000\n",
       "21  2.809365     0.183333\n",
       "22  2.943144     0.166667\n",
       "23  3.076923     0.166667"
      ]
     },
     "execution_count": 37,
     "metadata": {},
     "output_type": "execute_result"
    }
   ],
   "source": [
    "df2[df2.Probability < 0.25].head()"
   ]
  },
  {
   "cell_type": "code",
   "execution_count": 38,
   "metadata": {},
   "outputs": [
    {
     "data": {
      "text/html": [
       "<div>\n",
       "<style scoped>\n",
       "    .dataframe tbody tr th:only-of-type {\n",
       "        vertical-align: middle;\n",
       "    }\n",
       "\n",
       "    .dataframe tbody tr th {\n",
       "        vertical-align: top;\n",
       "    }\n",
       "\n",
       "    .dataframe thead th {\n",
       "        text-align: right;\n",
       "    }\n",
       "</style>\n",
       "<table border=\"1\" class=\"dataframe\">\n",
       "  <thead>\n",
       "    <tr style=\"text-align: right;\">\n",
       "      <th></th>\n",
       "      <th>Distance</th>\n",
       "      <th>Probability</th>\n",
       "    </tr>\n",
       "  </thead>\n",
       "  <tbody>\n",
       "    <tr>\n",
       "      <th>20</th>\n",
       "      <td>2.675585</td>\n",
       "      <td>0.2</td>\n",
       "    </tr>\n",
       "  </tbody>\n",
       "</table>\n",
       "</div>"
      ],
      "text/plain": [
       "    Distance  Probability\n",
       "20  2.675585          0.2"
      ]
     },
     "execution_count": 38,
     "metadata": {},
     "output_type": "execute_result"
    }
   ],
   "source": [
    "df2[df2.Probability == 0.20]"
   ]
  }
 ],
 "metadata": {
  "kernelspec": {
   "display_name": "Python 3",
   "language": "python",
   "name": "python3"
  },
  "language_info": {
   "codemirror_mode": {
    "name": "ipython",
    "version": 3
   },
   "file_extension": ".py",
   "mimetype": "text/x-python",
   "name": "python",
   "nbconvert_exporter": "python",
   "pygments_lexer": "ipython3",
   "version": "3.7.4"
  }
 },
 "nbformat": 4,
 "nbformat_minor": 4
}
